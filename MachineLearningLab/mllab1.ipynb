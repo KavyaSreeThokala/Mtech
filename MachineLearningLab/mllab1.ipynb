{
 "cells": [
  {
   "cell_type": "code",
   "execution_count": 5,
   "id": "91809ce7",
   "metadata": {},
   "outputs": [
    {
     "name": "stdout",
     "output_type": "stream",
     "text": [
      "enter number of hours: 9\n",
      "Predicted marks for 9 hours: 57.36329588014982\n"
     ]
    }
   ],
   "source": [
    "x = [0,1,2,3,3,5,5,5,6,7,7,10]\n",
    "y = [96,85,82,74,95,68,76,84,58,65,75,50]\n",
    "\n",
    "n = len(x)\n",
    "sum_x = sum_y = sum_x2 = sum_xy = 0\n",
    "for i in range(n):\n",
    "    xi = x[i]\n",
    "    yi = y[i]\n",
    "    sum_x += xi\n",
    "    sum_y += yi\n",
    "    sum_x2 += xi * xi\n",
    "    sum_xy += xi * yi\n",
    "\n",
    "m = (n * sum_xy - (sum_x * sum_y)) / (n * sum_x2 - sum_x**2)\n",
    "mean_x = sum_x / n\n",
    "mean_y = sum_y / n\n",
    "c = mean_y - m * mean_x\n",
    "x_new = int(input(\"enter number of hours: \"))\n",
    "y_pred = m * x_new + c\n",
    "print(f\"Predicted marks for {x_new} hours:\", y_pred)"
   ]
  },
  {
   "cell_type": "code",
   "execution_count": null,
   "id": "5039fb24",
   "metadata": {},
   "outputs": [],
   "source": []
  }
 ],
 "metadata": {
  "kernelspec": {
   "display_name": "Python 3 (ipykernel)",
   "language": "python",
   "name": "python3"
  },
  "language_info": {
   "codemirror_mode": {
    "name": "ipython",
    "version": 3
   },
   "file_extension": ".py",
   "mimetype": "text/x-python",
   "name": "python",
   "nbconvert_exporter": "python",
   "pygments_lexer": "ipython3",
   "version": "3.9.13"
  }
 },
 "nbformat": 4,
 "nbformat_minor": 5
}
